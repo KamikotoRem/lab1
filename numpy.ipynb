{
  "cells": [
    {
      "cell_type": "markdown",
      "metadata": {
        "id": "vC84e9kzyxPy"
      },
      "source": [
        "<h1>Импорт библиотек"
      ]
    },
    {
      "cell_type": "code",
      "execution_count": 1,
      "metadata": {
        "id": "cgKeNegmQG5S"
      },
      "outputs": [],
      "source": [
        "import numpy as np\n",
        "import matplotlib.pyplot as plt"
      ]
    },
    {
      "cell_type": "markdown",
      "metadata": {
        "id": "qFM9uVU2x4Ls"
      },
      "source": [
        "<h1>Задача 1. Дан набор из $p$ матриц размерностью $(n, n)$ и $p$ векторов размерностью $(n, 1)$, найти сумму произведений матриц на векторы. Написать тесты для кода"
      ]
    },
    {
      "cell_type": "code",
      "execution_count": 2,
      "metadata": {
        "id": "IAbUvEiYyWFF"
      },
      "outputs": [],
      "source": [
        "import numpy as np\n",
        "\n",
        "def sum_prod(X, V):\n",
        "    '''\n",
        "    X - матрицы (n, n)\n",
        "    V - векторы (n, 1)\n",
        "    Гарантируется, что len(X) == len(V)\n",
        "    '''\n",
        "    total = np.zeros((len(X[0]), 1)) \n",
        "\n",
        "    for matrix, vector in zip(X, V):\n",
        "        total += np.dot(matrix, vector)  \n",
        "\n",
        "    return total\n",
        "\n",
        "def tests():\n",
        "    #2 матрицы и 2 вектора\n",
        "    X = [np.array([[1, 2], [3, 4]]), np.array([[5, 6], [7, 8]])]\n",
        "    V = [np.array([[1], [1]]), np.array([[1], [1]])]\n",
        "    result = sum_prod(X, V)\n",
        "    expected = np.array([[14], [22]])\n",
        "    assert np.array_equal(result, expected), f\"Test case 1 failed: {result} != {expected}\"\n",
        "\n",
        "    #нулевые матрицы\n",
        "    X = [np.zeros((2, 2)), np.zeros((2, 2))]\n",
        "    V = [np.array([[1], [1]]), np.array([[1], [1]])]\n",
        "    result = sum_prod(X, V)\n",
        "    expected = np.zeros((2, 1))\n",
        "    assert np.array_equal(result, expected), f\"Test case 2 failed: {result} != {expected}\"\n",
        "\n",
        "    #отрицательные значения\n",
        "    X = [np.array([[1, -1], [-1, 1]])]\n",
        "    V = [np.array([[1], [-1]])]\n",
        "    result = sum_prod(X, V)\n",
        "    expected = np.array([[0], [0]]) \n",
        "    assert np.array_equal(result, expected), f\"Test case 3 failed: {result} != {expected}\"\n",
        "\n",
        "    #разные значения\n",
        "    X = [np.array([[2, 3], [4, 5]]), np.array([[1, 0], [0, 1]])]\n",
        "    V = [np.array([[1], [1]]), np.array([[1], [2]])]\n",
        "    result = sum_prod(X, V)\n",
        "    expected = np.array([[11], [17]])\n",
        "    assert np.array_equal(result, expected), f\"Test case 4 failed: {result} != {expected}\""
      ]
    },
    {
      "cell_type": "markdown",
      "metadata": {
        "id": "TKwPG4fIy2w4"
      },
      "source": [
        "<h1>Задача 2. Дана матрица M, напишите функцию, которая бинаризует матрицу по некоторому threshold (то есть, все значения большие threshold становятся равными 1, иначе 0). Напишите тесты для кода"
      ]
    },
    {
      "cell_type": "code",
      "execution_count": 3,
      "metadata": {
        "id": "KQDNMgsjRNH7"
      },
      "outputs": [],
      "source": [
        "def binarize(M, threshold=0.5):\n",
        "    return (M > threshold).astype(int)\n",
        "\n",
        "def tests():\n",
        "    #матрица с положительными и отрицательными значениями\n",
        "    M = np.array([[3, -1, 2], [4, -5, 6]])\n",
        "    threshold = 2\n",
        "    result = binarize(M, threshold)\n",
        "    expected = np.array([[1, 0, 0], [1, 0, 1]]) \n",
        "    assert np.array_equal(result, expected), \"Test case 1 failed\"\n",
        "\n",
        "    #все элементы равны порогу\n",
        "    M = np.array([[2, 2], [2, 2]])\n",
        "    threshold = 2\n",
        "    result = binarize(M, threshold)\n",
        "    expected = np.array([[0, 0], [0, 0]])  \n",
        "    assert np.array_equal(result, expected), \"Test case 2 failed\"\n",
        "\n",
        "    #все элементы ниже порога\n",
        "    M = np.array([[0, -2], [-3, -1]])\n",
        "    threshold = 1\n",
        "    result = binarize(M, threshold)\n",
        "    expected = np.array([[0, 0], [0, 0]])  \n",
        "    assert np.array_equal(result, expected), \"Test case 3 failed\"\n",
        "\n",
        "    #смешанные значения с порогом 0\n",
        "    M = np.array([[1, -1], [-1, 1]])\n",
        "    threshold = 0\n",
        "    result = binarize(M, threshold)\n",
        "    expected = np.array([[1, 0], [0, 1]])  \n",
        "    assert np.array_equal(result, expected), \"Test case 4 failed\"\n",
        "\n",
        "    #пустая матрица\n",
        "    M = np.array([[]])\n",
        "    threshold = 0\n",
        "    result = binarize(M, threshold)\n",
        "    expected = np.array([[]])\n",
        "    assert np.array_equal(result, expected), \"Test case 5 failed\"\n",
        "\n",
        "tests()"
      ]
    },
    {
      "cell_type": "markdown",
      "metadata": {
        "id": "IY5L-h-7zWhN"
      },
      "source": [
        "<h1>Задача 3. Напишите функцию, которая возвращает уникальные элементы из каждой строки матрицы. Напишите такую же функцию, но для столбцов. Напишите тесты для кода"
      ]
    },
    {
      "cell_type": "code",
      "execution_count": 4,
      "metadata": {
        "id": "-8dEZhR0SBC-"
      },
      "outputs": [],
      "source": [
        "import numpy as np\n",
        "\n",
        "def unique_rows(mat):\n",
        "    \"\"\"Возвращает уникальные элементы из каждой строки матрицы.\"\"\"\n",
        "    unique_rows_list = [np.unique(row).tolist() for row in mat]\n",
        "    return unique_rows_list\n",
        "\n",
        "def unique_columns(mat):\n",
        "    \"\"\"Возвращает уникальные элементы из каждого столбца матрицы.\"\"\"\n",
        "    unique_columns_list = [np.unique(mat[:, col]).tolist() for col in range(mat.shape[1])]\n",
        "    return unique_columns_list"
      ]
    },
    {
      "cell_type": "markdown",
      "metadata": {
        "id": "roYAlo4Jz-lH"
      },
      "source": [
        "<h1>Задача 4. Напишите функцию, которая заполняет матрицу с размерами $(m, n)$ случайными числами, распределенными по нормальному закону. Затем считает мат. ожидание и дисперсию для каждого из столбцов и строк, а также строит для каждой строки и столбца гистограмму значений (использовать функцию hist из модуля matplotlib.plot)"
      ]
    },
    {
      "cell_type": "code",
      "execution_count": 5,
      "metadata": {
        "id": "nZK_71hMSQzv"
      },
      "outputs": [],
      "source": [
        "def generate_matrix(m, n):\n",
        "    matrix = np.random.normal(loc=0, scale=1, size=(m, n)) \n",
        "    \n",
        "    row_means = np.mean(matrix, axis=1)\n",
        "    row_variances = np.var(matrix, axis=1)\n",
        "    col_means = np.mean(matrix, axis=0)\n",
        "    col_variances = np.var(matrix, axis=0)\n",
        "\n",
        "    for i in range(m):\n",
        "        plt.figure()\n",
        "        plt.hist(matrix[i], bins=10, alpha=0.7, color='blue')\n",
        "        plt.title(f'Histogram of Row {i + 1}')\n",
        "        plt.xlabel('Value')\n",
        "        plt.ylabel('Frequency')\n",
        "        plt.grid()\n",
        "        plt.show()\n",
        "\n",
        "    for j in range(n):\n",
        "        plt.figure()\n",
        "        plt.hist(matrix[:, j], bins=10, alpha=0.7, color='orange')\n",
        "        plt.title(f'Histogram of Column {j + 1}')\n",
        "        plt.xlabel('Value')\n",
        "        plt.ylabel('Frequency')\n",
        "        plt.grid()\n",
        "        plt.show()\n",
        "\n",
        "    return matrix"
      ]
    },
    {
      "cell_type": "markdown",
      "metadata": {
        "id": "BDyATNdM0dJ2"
      },
      "source": [
        "<h1>Задача 5. Напишите функцию, которая заполняет матрицу $(m, n)$ в шахматном порядке заданными числами $a$ и $b$. Напишите тесты для кода"
      ]
    },
    {
      "cell_type": "code",
      "execution_count": 6,
      "metadata": {
        "id": "RWNJYWQGecS6"
      },
      "outputs": [],
      "source": [
        "def chess(m, n, a, b):\n",
        "    matrix = np.empty((m, n), dtype=int)\n",
        "    \n",
        "    for i in range(m):\n",
        "        for j in range(n):\n",
        "            if (i + j) % 2 == 0:\n",
        "                matrix[i, j] = a\n",
        "            else:\n",
        "                matrix[i, j] = b\n",
        "                \n",
        "    return matrix\n",
        "def tests():\n",
        "    # матрица 2x2\n",
        "    expected1 = np.array([[1, 2], [2, 1]])\n",
        "    result1 = chess(2, 2, 1, 2)\n",
        "    assert np.array_equal(result1, expected1), f\"Test 1 failed: {result1} != {expected1}\"\n",
        "\n",
        "    #матрица 3x3\n",
        "    expected2 = np.array([[1, 2, 1], [2, 1, 2], [1, 2, 1]])\n",
        "    result2 = chess(3, 3, 1, 2)\n",
        "    assert np.array_equal(result2, expected2), f\"Test 2 failed: {result2} != {expected2}\"\n",
        "\n",
        "    #матрица 4x4\n",
        "    expected3 = np.array([[1, 2, 1, 2], [2, 1, 2, 1], [1, 2, 1, 2], [2, 1, 2, 1]])\n",
        "    result3 = chess(4, 4, 1, 2)\n",
        "    assert np.array_equal(result3, expected3), f\"Test 3 failed: {result3} != {expected3}\"\n",
        "\n",
        "    #матрица 3x2\n",
        "    expected4 = np.array([[1, 2], [2, 1], [1, 2]])\n",
        "    result4 = chess(3, 2, 1, 2)\n",
        "    assert np.array_equal(result4, expected4), f\"Test 4 failed: {result4} != {expected4}\"\n",
        "\n",
        "    #матрица 2x5\n",
        "    expected5 = np.array([[1, 2, 1, 2, 1], [2, 1, 2, 1, 2]])\n",
        "    result5 = chess(2, 5, 1, 2)\n",
        "    assert np.array_equal(result5, expected5), f\"Test 5 failed: {result5} != {expected5}\"\n",
        "\n",
        "tests()"
      ]
    },
    {
      "cell_type": "markdown",
      "metadata": {
        "id": "-ymXLtTN0vB6"
      },
      "source": [
        "<h1>Задача 6. Напишите функцию, которая отрисовывает прямоугольник с заданными размерами (a, b) на изображении размера (m, n), цвет фона задайте в схеме RGB, как и цвет прямоугольника. Цвета также должны быть параметрами функции. Напишите аналогичную функцию но для овала с полуосями a и b. Напишите тесты для кода.\n",
        "Примечание: уравнение эллипса (границы овала) можно записать как:\n",
        "<h1>$\\frac{(x-x_0)^2}{a^2}+\\frac{(y-y_0)^2}{b^2}=1$"
      ]
    },
    {
      "cell_type": "code",
      "execution_count": 29,
      "metadata": {
        "id": "sNfl1t_kfOF4"
      },
      "outputs": [
        {
          "data": {
            "image/png": "[encoded data removed]",
            "text/plain": [
              "<Figure size 640x480 with 1 Axes>"
            ]
          },
          "metadata": {},
          "output_type": "display_data"
        },
        {
          "name": "stdout",
          "output_type": "stream",
          "text": [
            "Test 1 passed: Rectangle drawn successfully.\n"
          ]
        },
        {
          "data": {
            "image/png": "[encoded data removed]",
            "text/plain": [
              "<Figure size 640x480 with 1 Axes>"
            ]
          },
          "metadata": {},
          "output_type": "display_data"
        },
        {
          "name": "stdout",
          "output_type": "stream",
          "text": [
            "Test 2 passed: Ellipse drawn successfully.\n"
          ]
        }
      ],
      "source": [
        "import numpy as np\n",
        "import matplotlib.pyplot as plt\n",
        "\n",
        "def draw_rectangle(a, b, m, n, rectangle_color, background_color):\n",
        "    # фон\n",
        "    image = np.ones((m, n, 3), dtype=float) * np.array(background_color)\n",
        "\n",
        "    # координаты прямоугольника\n",
        "    image[0:b, 0:a] = rectangle_color  \n",
        "    \n",
        "    plt.imshow(image)\n",
        "    plt.axis('off')\n",
        "    plt.show()\n",
        "\n",
        "def draw_ellipse(a, b, m, n, ellipse_color, background_color):\n",
        "    image = np.ones((m, n, 3), dtype=float) * np.array(background_color)\n",
        "\n",
        "    y, x = np.ogrid[:m, :n]\n",
        "    center_x, center_y = n // 2, m // 2 \n",
        "\n",
        "    mask = ((x - center_x) ** 2) / (a ** 2) + ((y - center_y) ** 2) / (b ** 2) <= 1\n",
        "\n",
        "    image[mask] = ellipse_color\n",
        "    \n",
        "    plt.imshow(image)\n",
        "    plt.axis('off') \n",
        "    plt.show()\n",
        "\n",
        "def tests():\n",
        "    try:\n",
        "        draw_rectangle(6, 3, 12, 8, rectangle_color=[0, 1, 0], background_color=[1, 1, 0])  #зеленый прямоугольник на желтом фоне\n",
        "        print(\"Test 1 passed: Rectangle drawn successfully.\")\n",
        "    except Exception as e:\n",
        "        print(f\"Test 1 failed: {e}\")\n",
        "\n",
        "    try:\n",
        "        draw_ellipse(4, 3, 10, 10, ellipse_color=[1, 0, 1], background_color=[0, 0, 0])  #фиолетовый овал на черном фоне\n",
        "        print(\"Test 2 passed: Ellipse drawn successfully.\")\n",
        "    except Exception as e:\n",
        "        print(f\"Test 2 failed: {e}\")\n",
        "\n",
        "tests()"
      ]
    },
    {
      "cell_type": "markdown",
      "metadata": {
        "id": "S82c38oz244H"
      },
      "source": [
        "<h1>Задача 7. Дан некий временной ряд. Для данного ряда нужно найти его: математическое ожидание, дисперсию, СКО, найти все локальные максимумы и минимумы (локальный максимум - это точка, которая больше своих соседних точек, а локальный минимум - это точка, которая меньше своих соседей), а также вычислить для данного ряда другой ряд, получаемый методом скользящего среднего с размером окна $p$.\n",
        "<h1>Примечание: метод скользящего среднего подразумевает нахождение среднего из подмножетсва ряда размером $p$"
      ]
    },
    {
      "cell_type": "code",
      "execution_count": null,
      "metadata": {
        "id": "Zb9mIVge5MMt"
      },
      "outputs": [],
      "source": []
    },
    {
      "cell_type": "markdown",
      "metadata": {
        "id": "jPkylmOX5O9n"
      },
      "source": [
        "<h1> Задача 8. Дан некоторый вектор с целочисленными метками классов, напишите функцию, которая выполняет one-hot-encoding для данного вектора\n",
        "<h1> One-hot-encoding - представление, в котором на месте метки некоторого класса стоит 1, в остальных позициях стоит 0. Например для вектора [0, 2, 3, 0] one-hot-encoding выглядит как: [[1, 0, 0, 0], [0, 0, 1, 0], [0, 0, 0, 1], [1, 0, 0, 0]]"
      ]
    },
    {
      "cell_type": "code",
      "execution_count": 32,
      "metadata": {
        "id": "Y-jlnZvw56lD"
      },
      "outputs": [],
      "source": [
        "import numpy as np\n",
        "\n",
        "def one_hot_encoding(labels):\n",
        "    if len(labels) == 0: \n",
        "        return np.empty((0, 0))  \n",
        "    \n",
        "    #количество классов\n",
        "    num_classes = np.max(labels) + 1\n",
        "    #матрица one-hot\n",
        "    one_hot = np.zeros((len(labels), num_classes))\n",
        "    one_hot[np.arange(len(labels)), labels] = 1\n",
        "    return one_hot\n",
        "\n",
        "\n",
        "def tests():\n",
        "    labels = np.array([0, 2, 3, 0])\n",
        "    expected_output = np.array([[1, 0, 0, 0],\n",
        "                                 [0, 0, 1, 0],\n",
        "                                 [0, 0, 0, 1],\n",
        "                                 [1, 0, 0, 0]])\n",
        "    output = one_hot_encoding(labels)\n",
        "    assert np.array_equal(output, expected_output), f\"Test 1 failed: {output} != {expected_output}\"\n",
        "\n",
        "    labels = np.array([1, 1, 2, 0, 1])\n",
        "    expected_output = np.array([[0, 1, 0],\n",
        "                                 [0, 1, 0],\n",
        "                                 [0, 0, 1],\n",
        "                                 [1, 0, 0],\n",
        "                                 [0, 1, 0]])\n",
        "    output = one_hot_encoding(labels)\n",
        "    assert np.array_equal(output, expected_output), f\"Test 2 failed: {output} != {expected_output}\"\n",
        "\n",
        "    labels = np.array([0, 0, 0])\n",
        "    expected_output = np.array([[1], [1], [1]])\n",
        "    output = one_hot_encoding(labels)\n",
        "    assert np.array_equal(output, expected_output), f\"Test 3 failed: {output} != {expected_output}\"\n",
        "\n",
        "    labels = np.array([])\n",
        "    expected_output = np.array([]).reshape(0, 0)\n",
        "    output = one_hot_encoding(labels)\n",
        "    assert np.array_equal(output, expected_output), f\"Test 4 failed: {output} != {expected_output}\"\n",
        "tests()"
      ]
    }
  ],
  "metadata": {
    "colab": {
      "provenance": []
    },
    "kernelspec": {
      "display_name": "Python 3",
      "name": "python3"
    },
    "language_info": {
      "codemirror_mode": {
        "name": "ipython",
        "version": 3
      },
      "file_extension": ".py",
      "mimetype": "text/x-python",
      "name": "python",
      "nbconvert_exporter": "python",
      "pygments_lexer": "ipython3",
      "version": "3.13.0"
    }
  },
  "nbformat": 4,
  "nbformat_minor": 0
}
