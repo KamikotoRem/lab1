{
  "cells": [
    {
      "cell_type": "markdown",
      "metadata": {
        "id": "M-DGa20PaHnu"
      },
      "source": [
        "#Задача 1\n",
        "Написать функцию на вход которой подается строка, состоящая из латинских букв.\n",
        "Функция должна вернуть количество гласных букв (a, e, i, o, u) в этой строке. Написать тесты для кода"
      ]
    },
    {
      "cell_type": "code",
      "execution_count": 4,
      "metadata": {
        "id": "XvX8X_JJ6PCb"
      },
      "outputs": [],
      "source": [
        "def countOfvowels(str):\n",
        "    vowels = \"aeiouAEIOU\"\n",
        "    count = 0\n",
        "    for char in str:\n",
        "        if char in vowels:\n",
        "            count += 1\n",
        "    return count\n",
        "\n",
        "def test_count_vowels():\n",
        "    assert countOfvowels(\"hello\") == 2\n",
        "    assert countOfvowels(\"world\") == 1\n",
        "    assert countOfvowels(\"Python\") == 1\n",
        "    assert countOfvowels(\"\") == 0\n",
        "    assert countOfvowels(\"AEIOU\") == 5\n",
        "\n",
        "test_count_vowels()"
      ]
    },
    {
      "cell_type": "markdown",
      "metadata": {
        "id": "t2ClV_Y0bbr6"
      },
      "source": [
        "# Задача 2\n",
        "Написать функцию на вход, которой подается строка. Функция должна вернуть true, если\n",
        "каждый символ в строке встречается только 1 раз, иначе должна вернуть false. Написать тесты для кода"
      ]
    },
    {
      "cell_type": "code",
      "execution_count": 9,
      "metadata": {
        "id": "FppbECao6VIz"
      },
      "outputs": [],
      "source": [
        "def uniqString(str):\n",
        "    char_count = {}\n",
        "    for char in str:\n",
        "        if char in char_count:\n",
        "            return False\n",
        "        char_count[char] = 1\n",
        "    return True\n",
        "\n",
        "def test_uniqString():\n",
        "    assert uniqString(\"hello\") == False\n",
        "    assert uniqString(\"world\") == True\n",
        "    assert uniqString(\"Python\") == True\n",
        "    assert uniqString(\"\") == True\n",
        "    assert uniqString(\"AAEIOU\") == False\n",
        "\n",
        "test_uniqString()"
      ]
    },
    {
      "cell_type": "markdown",
      "metadata": {
        "id": "udRiIK1cdt6E"
      },
      "source": [
        "# Задача 3\n",
        "Написать функцию, которая принимает положительное число и возвращает количество\n",
        "бит равных 1 в этом числе. Написать тесты для кода"
      ]
    },
    {
      "cell_type": "code",
      "execution_count": 12,
      "metadata": {
        "id": "6tkfDJRz6dp_"
      },
      "outputs": [],
      "source": [
        "def countBits(num):\n",
        "    count = 0\n",
        "    while num:\n",
        "        count+= num & 1 \n",
        "        num >>= 1\n",
        "    return count\n",
        "\n",
        "def test_count_bits():\n",
        "    assert countBits(0) == 0\n",
        "    assert countBits(1) == 1\n",
        "    assert countBits(2) == 1\n",
        "    assert countBits(3) == 2\n",
        "    assert countBits(10) == 2\n",
        "    assert countBits(15) == 4\n",
        "    assert countBits(255) == 8\n",
        "\n",
        "test_count_bits() "
      ]
    },
    {
      "cell_type": "markdown",
      "metadata": {
        "id": "26dDUz-Ae17N"
      },
      "source": [
        "# Задача 4\n",
        "Написать функцию, которая принимает положительное число. Функция должна вернуть то,\n",
        "сколько раз необходимо перемножать цифры числа или результат перемножения, чтобы\n",
        "получилось число состоящее из одной цифры.\n",
        "Например, для входного числа:\n",
        "· 39 функция должна вернуть 3, так как 3*9=27 => 2*7=14 => 1*4=4\n",
        "· 4 функция должна вернуть 0, так как число уже состоит из одной цифры\n",
        "· 999 функция должна вернуть 4, так как 9*9*9=729 => 7*2*9=126 => 1*2*6=12 =>\n",
        "1*2=2. Написать тесты для кода"
      ]
    },
    {
      "cell_type": "code",
      "execution_count": 13,
      "metadata": {
        "id": "BH1A_Mgi6i4G"
      },
      "outputs": [],
      "source": [
        "def magic(n):\n",
        "    if n < 10:\n",
        "        return 0\n",
        "    count = 0\n",
        "    while n >= 10:\n",
        "        product = 1\n",
        "        while n > 0:\n",
        "            product *= n % 10\n",
        "            n //= 10\n",
        "        n = product\n",
        "        count += 1\n",
        "    return count\n",
        "\n",
        "def magic_test():\n",
        "    assert magic(39) == 3\n",
        "    assert magic(4) == 0\n",
        "    assert magic(999) == 4\n",
        "\n",
        "magic_test()"
      ]
    },
    {
      "cell_type": "markdown",
      "metadata": {
        "id": "0nS-kIa8g8vd"
      },
      "source": [
        "# Задача 5\n",
        "Написать функцию, которая принимает два целочисленных вектора одинаковой длины и\n",
        "возвращает среднеквадратическое отклонение двух векторов. Написать тесты для кода"
      ]
    },
    {
      "cell_type": "code",
      "execution_count": 14,
      "metadata": {
        "id": "8iphx4LM6xbx"
      },
      "outputs": [],
      "source": [
        "import math\n",
        "\n",
        "def mse(pred, true):\n",
        "    n = len (pred)\n",
        "    squaredDiff = 0\n",
        "    for i in range(n):\n",
        "        squaredDiff += (pred[i] - true[i])**2\n",
        "    return math.sqrt(squaredDiff//n)\n",
        "\n",
        "def test_mse():\n",
        "    assert mse([1, 2, 3], [1, 2, 3]) == 0\n",
        "    assert mse([1, 2, 3], [4, 5, 6]) == math.sqrt(9)\n",
        "    assert mse([10, 20, 30, 40], [15, 25, 35, 45]) == math.sqrt(25)\n",
        "\n",
        "test_mse()"
      ]
    },
    {
      "cell_type": "markdown",
      "metadata": {
        "id": "vpIPKL439zkw"
      },
      "source": [
        "# Задача 6\n",
        "Написать функцию, принимающая целое положительное число. Функция должна вернуть\n",
        "строку вида “(n1**p1)(n2**p2)…(nk**pk)” представляющая разложение числа на простые\n",
        "множители (если pi == 1, то выводить только ni).\n",
        "Например, для числа 86240 функция должна вернуть “(2**5)(5)(7**2)(11)”. Написать тесты для кода"
      ]
    },
    {
      "cell_type": "code",
      "execution_count": 15,
      "metadata": {
        "id": "pFebmcZk94Jw"
      },
      "outputs": [],
      "source": [
        "def prime_factorization(n):\n",
        "    \n",
        "    factors = {}\n",
        "    divisor = 2\n",
        "    \n",
        "    while n > 1:\n",
        "        while n % divisor == 0:\n",
        "            if divisor in factors:\n",
        "                factors[divisor] += 1\n",
        "            else:\n",
        "                factors[divisor] = 1\n",
        "            n //= divisor\n",
        "        divisor += 1\n",
        "    \n",
        "    result = []\n",
        "    for prime, power in factors.items():\n",
        "        if power == 1:\n",
        "            result.append(f\"({prime})\")\n",
        "        else:\n",
        "            result.append(f\"({prime}**{power})\")\n",
        "    \n",
        "    return ''.join(result)\n",
        "\n",
        "def tests():\n",
        "    assert prime_factorization(86240) == \"(2**5)(5)(7**2)(11)\"\n",
        "    assert prime_factorization(60) == \"(2**2)(3)(5)\"\n",
        "    assert prime_factorization(1) == \"\"\n",
        "    assert prime_factorization(28) == \"(2**2)(7)\"\n",
        "    assert prime_factorization(100) == \"(2**2)(5**2)\"\n",
        "    assert prime_factorization(13) == \"(13)\"\n",
        "\n",
        "tests()"
      ]
    },
    {
      "cell_type": "markdown",
      "metadata": {
        "id": "ps2s0BudX7A2"
      },
      "source": [
        "# Задача 7\n",
        "Написать функцию, принимающая целое число n, задающее количество кубиков. Функция\n",
        "должна определить, можно ли из данного кол-ва кубиков построить пирамиду, то есть\n",
        "можно ли представить число n как 1^2+2^2+3^2+…+k^2. Если можно, то функция должна\n",
        "вернуть k, иначе строку “It is impossible”. Написать тесты для кода"
      ]
    },
    {
      "cell_type": "code",
      "execution_count": null,
      "metadata": {
        "id": "3YPjEXxhX_YT"
      },
      "outputs": [],
      "source": [
        "def pyramid(number):\n",
        "\n",
        "    if n < 1:\n",
        "        return \"It is impossible\"\n",
        "    \n",
        "    k = 1\n",
        "    S = 0\n",
        "    \n",
        "    while S < n:\n",
        "        S += k ** 2\n",
        "        if S == n:\n",
        "            return k\n",
        "        k += 1\n",
        "    \n",
        "    return \"It is impossible\"\n",
        "\n",
        "def tests():\n",
        "\n",
        "    assert pyramid(1) == 1  \n",
        "    assert pyramid(5) == \"It is impossible\"\n",
        "    assert pyramid(14) == 3\n",
        "    assert pyramid(15) == \"It is impossible\"\n",
        "    assert pyramid(30) == 4  \n",
        "    assert pyramid(55) == 5 \n",
        "    assert pyramid(1_000) == \"It is impossible\"\n",
        "    \n",
        "tests()"
      ]
    },
    {
      "cell_type": "markdown",
      "metadata": {
        "id": "KeKgmIdAQMEJ"
      },
      "source": [
        "# Задача 8\n",
        "Функция принимает на вход положительное число и определяет является ли оно сбалансированным, т.е. сумма цифр до средних равна сумме цифр после. Средними в случае нечетного числа цифр считать одну цифру, в случае четного - две средних. Написать тесты для кода"
      ]
    },
    {
      "cell_type": "code",
      "execution_count": 17,
      "metadata": {
        "id": "gMAAqtqlQrZt"
      },
      "outputs": [],
      "source": [
        "def func(n):\n",
        "    digits = str(n)\n",
        "    length = len(digits)\n",
        "\n",
        "    if length % 2 == 0:\n",
        "        mid1 = length // 2 - 1\n",
        "        mid2 = mid1 + 1\n",
        "        left_sum = sum(int(digits[i]) for i in range(mid1))\n",
        "        right_sum = sum(int(digits[i]) for i in range(mid2 + 1, length))\n",
        "    else:\n",
        "        mid = length // 2\n",
        "        left_sum = sum(int(digits[i]) for i in range(mid))\n",
        "        right_sum = sum(int(digits[i]) for i in range(mid + 1, length))\n",
        "\n",
        "    return left_sum == right_sum\n",
        "\n",
        "def tests():\n",
        "    assert func(2016) == False, \"Test case 1 failed\"\n",
        "    assert func(321123) == True, \"Test case 2 failed\"\n",
        "    assert func(1111) == True, \"Test case 3 failed\"\n",
        "    assert func(120598) == False, \"Test case 4 failed\"\n",
        "\n",
        "\n",
        "tests()"
      ]
    }
  ],
  "metadata": {
    "colab": {
      "provenance": []
    },
    "kernelspec": {
      "display_name": "Python 3",
      "name": "python3"
    },
    "language_info": {
      "codemirror_mode": {
        "name": "ipython",
        "version": 3
      },
      "file_extension": ".py",
      "mimetype": "text/x-python",
      "name": "python",
      "nbconvert_exporter": "python",
      "pygments_lexer": "ipython3",
      "version": "3.12.0"
    }
  },
  "nbformat": 4,
  "nbformat_minor": 0
}
